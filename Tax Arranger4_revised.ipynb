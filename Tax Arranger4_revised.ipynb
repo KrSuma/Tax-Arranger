{
 "cells": [
  {
   "cell_type": "code",
   "execution_count": 816,
   "metadata": {
    "collapsed": true
   },
   "outputs": [],
   "source": [
    "import pandas as pd\n",
    "import numpy as np\n",
    "import time\n",
    "from time import gmtime, strftime\n",
    "import openpyxl\n",
    "\n",
    "date = strftime(\"%Y-%m-%d\", gmtime())"
   ]
  },
  {
   "cell_type": "code",
   "execution_count": 817,
   "outputs": [
    {
     "name": "stderr",
     "output_type": "stream",
     "text": [
      "C:\\ProgramData\\Anaconda3\\envs\\pythonProject1\\lib\\site-packages\\pandas\\core\\reshape\\concat.py:348: DtypeWarning: Columns (53) have mixed types.Specify dtype option on import or set low_memory=False.\n",
      "  objs = list(objs)\n"
     ]
    },
    {
     "data": {
      "text/plain": "              Name                   Email Financial Status  \\\n0  #DBB100470881KR    louisa.zieger@web.de             paid   \n1  #DBB100470881KR    louisa.zieger@web.de              NaN   \n2  #DBB100470881KR    louisa.zieger@web.de              NaN   \n3  #DBB100470880KR  Hillygirly11@gmail.com             paid   \n4  #DBB100470880KR  Hillygirly11@gmail.com              NaN   \n\n                     Paid at Fulfillment Status Fulfilled at  \\\n0  2021-12-27 09:32:11 -0500        unfulfilled          NaN   \n1                        NaN                NaN          NaN   \n2                        NaN                NaN          NaN   \n3  2021-12-27 08:47:08 -0500        unfulfilled          NaN   \n4                        NaN                NaN          NaN   \n\n  Accepts Marketing Currency  Subtotal  Shipping  ...  Tax 4 Value  \\\n0                no      USD     52.96     19.99  ...          NaN   \n1               NaN      NaN       NaN       NaN  ...          NaN   \n2               NaN      NaN       NaN       NaN  ...          NaN   \n3                no      USD     23.97      9.99  ...          NaN   \n4               NaN      NaN       NaN       NaN  ...          NaN   \n\n   Tax 5 Name Tax 5 Value  Phone Receipt Number Duties  Billing Province Name  \\\n0         NaN         NaN    NaN            NaN    NaN                    NaN   \n1         NaN         NaN    NaN            NaN    NaN                    NaN   \n2         NaN         NaN    NaN            NaN    NaN                    NaN   \n3         NaN         NaN    NaN            NaN    NaN               Missouri   \n4         NaN         NaN    NaN            NaN    NaN                    NaN   \n\n  Shipping Province Name  Payment Terms Name  Next Payment Due At  \n0                    NaN                 NaN                  NaN  \n1                    NaN                 NaN                  NaN  \n2                    NaN                 NaN                  NaN  \n3               Missouri                 NaN                  NaN  \n4                    NaN                 NaN                  NaN  \n\n[5 rows x 77 columns]",
      "text/html": "<div>\n<style scoped>\n    .dataframe tbody tr th:only-of-type {\n        vertical-align: middle;\n    }\n\n    .dataframe tbody tr th {\n        vertical-align: top;\n    }\n\n    .dataframe thead th {\n        text-align: right;\n    }\n</style>\n<table border=\"1\" class=\"dataframe\">\n  <thead>\n    <tr style=\"text-align: right;\">\n      <th></th>\n      <th>Name</th>\n      <th>Email</th>\n      <th>Financial Status</th>\n      <th>Paid at</th>\n      <th>Fulfillment Status</th>\n      <th>Fulfilled at</th>\n      <th>Accepts Marketing</th>\n      <th>Currency</th>\n      <th>Subtotal</th>\n      <th>Shipping</th>\n      <th>...</th>\n      <th>Tax 4 Value</th>\n      <th>Tax 5 Name</th>\n      <th>Tax 5 Value</th>\n      <th>Phone</th>\n      <th>Receipt Number</th>\n      <th>Duties</th>\n      <th>Billing Province Name</th>\n      <th>Shipping Province Name</th>\n      <th>Payment Terms Name</th>\n      <th>Next Payment Due At</th>\n    </tr>\n  </thead>\n  <tbody>\n    <tr>\n      <th>0</th>\n      <td>#DBB100470881KR</td>\n      <td>louisa.zieger@web.de</td>\n      <td>paid</td>\n      <td>2021-12-27 09:32:11 -0500</td>\n      <td>unfulfilled</td>\n      <td>NaN</td>\n      <td>no</td>\n      <td>USD</td>\n      <td>52.96</td>\n      <td>19.99</td>\n      <td>...</td>\n      <td>NaN</td>\n      <td>NaN</td>\n      <td>NaN</td>\n      <td>NaN</td>\n      <td>NaN</td>\n      <td>NaN</td>\n      <td>NaN</td>\n      <td>NaN</td>\n      <td>NaN</td>\n      <td>NaN</td>\n    </tr>\n    <tr>\n      <th>1</th>\n      <td>#DBB100470881KR</td>\n      <td>louisa.zieger@web.de</td>\n      <td>NaN</td>\n      <td>NaN</td>\n      <td>NaN</td>\n      <td>NaN</td>\n      <td>NaN</td>\n      <td>NaN</td>\n      <td>NaN</td>\n      <td>NaN</td>\n      <td>...</td>\n      <td>NaN</td>\n      <td>NaN</td>\n      <td>NaN</td>\n      <td>NaN</td>\n      <td>NaN</td>\n      <td>NaN</td>\n      <td>NaN</td>\n      <td>NaN</td>\n      <td>NaN</td>\n      <td>NaN</td>\n    </tr>\n    <tr>\n      <th>2</th>\n      <td>#DBB100470881KR</td>\n      <td>louisa.zieger@web.de</td>\n      <td>NaN</td>\n      <td>NaN</td>\n      <td>NaN</td>\n      <td>NaN</td>\n      <td>NaN</td>\n      <td>NaN</td>\n      <td>NaN</td>\n      <td>NaN</td>\n      <td>...</td>\n      <td>NaN</td>\n      <td>NaN</td>\n      <td>NaN</td>\n      <td>NaN</td>\n      <td>NaN</td>\n      <td>NaN</td>\n      <td>NaN</td>\n      <td>NaN</td>\n      <td>NaN</td>\n      <td>NaN</td>\n    </tr>\n    <tr>\n      <th>3</th>\n      <td>#DBB100470880KR</td>\n      <td>Hillygirly11@gmail.com</td>\n      <td>paid</td>\n      <td>2021-12-27 08:47:08 -0500</td>\n      <td>unfulfilled</td>\n      <td>NaN</td>\n      <td>no</td>\n      <td>USD</td>\n      <td>23.97</td>\n      <td>9.99</td>\n      <td>...</td>\n      <td>NaN</td>\n      <td>NaN</td>\n      <td>NaN</td>\n      <td>NaN</td>\n      <td>NaN</td>\n      <td>NaN</td>\n      <td>Missouri</td>\n      <td>Missouri</td>\n      <td>NaN</td>\n      <td>NaN</td>\n    </tr>\n    <tr>\n      <th>4</th>\n      <td>#DBB100470880KR</td>\n      <td>Hillygirly11@gmail.com</td>\n      <td>NaN</td>\n      <td>NaN</td>\n      <td>NaN</td>\n      <td>NaN</td>\n      <td>NaN</td>\n      <td>NaN</td>\n      <td>NaN</td>\n      <td>NaN</td>\n      <td>...</td>\n      <td>NaN</td>\n      <td>NaN</td>\n      <td>NaN</td>\n      <td>NaN</td>\n      <td>NaN</td>\n      <td>NaN</td>\n      <td>NaN</td>\n      <td>NaN</td>\n      <td>NaN</td>\n      <td>NaN</td>\n    </tr>\n  </tbody>\n</table>\n<p>5 rows × 77 columns</p>\n</div>"
     },
     "execution_count": 817,
     "metadata": {},
     "output_type": "execute_result"
    }
   ],
   "source": [
    "'''\n",
    "this is the files from shopify\n",
    "'''\n",
    "number_files = ['orders_export_1.csv', 'orders_export_2.csv']\n",
    "\n",
    "df_combined = (pd.read_csv(f, delimiter=',', encoding='utf-8-sig') for f in number_files)\n",
    "df = pd.concat(df_combined, ignore_index=True)\n",
    "\n",
    "df.head()"
   ],
   "metadata": {
    "collapsed": false,
    "pycharm": {
     "name": "#%%\n"
    }
   }
  },
  {
   "cell_type": "code",
   "execution_count": 818,
   "outputs": [],
   "source": [
    "df.to_csv('combined_file.csv')"
   ],
   "metadata": {
    "collapsed": false,
    "pycharm": {
     "name": "#%%\n"
    }
   }
  },
  {
   "cell_type": "code",
   "execution_count": 819,
   "outputs": [
    {
     "name": "stdout",
     "output_type": "stream",
     "text": [
      "Total count before the transformation: 35347\n"
     ]
    }
   ],
   "source": [
    "print('Total count before the transformation: ' + str(df['Lineitem quantity'].sum()))"
   ],
   "metadata": {
    "collapsed": false,
    "pycharm": {
     "name": "#%%\n"
    }
   }
  },
  {
   "cell_type": "code",
   "execution_count": 820,
   "outputs": [
    {
     "data": {
      "text/plain": "              Name                 Created at Fulfilled at       Vendor  \\\n0  #DBB100470881KR  2021-12-27 09:32:10 -0500          NaN     GQ Korea   \n1  #DBB100470881KR  2021-12-27 09:32:10 -0500          NaN        Route   \n2  #DBB100470881KR  2021-12-27 09:32:10 -0500          NaN  Vogue Korea   \n3  #DBB100470880KR  2021-12-27 08:47:07 -0500          NaN  Vogue Korea   \n4  #DBB100470880KR  2021-12-27 08:47:07 -0500          NaN        Route   \n\n                                       Lineitem name  \\\n0  [Pre-Order] GQ Korea January Issue (Cover: BTS...   \n1                   Route Package Protection - $0.98   \n2  [Pre-Order] Vogue Korea January Issue (Cover: ...   \n3  [Pre-Order] Vogue Korea January Issue (Cover: ...   \n4                   Route Package Protection - $0.98   \n\n                                        Lineitem sku  Lineitem quantity  \\\n0  Magazine - 160189 - GQ Korea - 지큐 2022.01 (표지:...                  1   \n1                                         ROUTEINS10                  1   \n2  Magazine - 160184 - Vogue Korea - 보그 2022.01 (...                  1   \n3  Magazine - 160183 - Vogue Korea - 보그 2022.01 (...                  1   \n4                                         ROUTEINS10                  1   \n\n   Lineitem price  Discount Amount  Taxes  Subtotal  Shipping  Total  \n0           25.99              0.0    0.0     52.96     19.99  72.95  \n1            0.98              NaN    NaN       NaN       NaN    NaN  \n2           25.99              NaN    NaN       NaN       NaN    NaN  \n3           25.99              3.0    0.0     23.97      9.99  33.96  \n4            0.98              NaN    NaN       NaN       NaN    NaN  ",
      "text/html": "<div>\n<style scoped>\n    .dataframe tbody tr th:only-of-type {\n        vertical-align: middle;\n    }\n\n    .dataframe tbody tr th {\n        vertical-align: top;\n    }\n\n    .dataframe thead th {\n        text-align: right;\n    }\n</style>\n<table border=\"1\" class=\"dataframe\">\n  <thead>\n    <tr style=\"text-align: right;\">\n      <th></th>\n      <th>Name</th>\n      <th>Created at</th>\n      <th>Fulfilled at</th>\n      <th>Vendor</th>\n      <th>Lineitem name</th>\n      <th>Lineitem sku</th>\n      <th>Lineitem quantity</th>\n      <th>Lineitem price</th>\n      <th>Discount Amount</th>\n      <th>Taxes</th>\n      <th>Subtotal</th>\n      <th>Shipping</th>\n      <th>Total</th>\n    </tr>\n  </thead>\n  <tbody>\n    <tr>\n      <th>0</th>\n      <td>#DBB100470881KR</td>\n      <td>2021-12-27 09:32:10 -0500</td>\n      <td>NaN</td>\n      <td>GQ Korea</td>\n      <td>[Pre-Order] GQ Korea January Issue (Cover: BTS...</td>\n      <td>Magazine - 160189 - GQ Korea - 지큐 2022.01 (표지:...</td>\n      <td>1</td>\n      <td>25.99</td>\n      <td>0.0</td>\n      <td>0.0</td>\n      <td>52.96</td>\n      <td>19.99</td>\n      <td>72.95</td>\n    </tr>\n    <tr>\n      <th>1</th>\n      <td>#DBB100470881KR</td>\n      <td>2021-12-27 09:32:10 -0500</td>\n      <td>NaN</td>\n      <td>Route</td>\n      <td>Route Package Protection - $0.98</td>\n      <td>ROUTEINS10</td>\n      <td>1</td>\n      <td>0.98</td>\n      <td>NaN</td>\n      <td>NaN</td>\n      <td>NaN</td>\n      <td>NaN</td>\n      <td>NaN</td>\n    </tr>\n    <tr>\n      <th>2</th>\n      <td>#DBB100470881KR</td>\n      <td>2021-12-27 09:32:10 -0500</td>\n      <td>NaN</td>\n      <td>Vogue Korea</td>\n      <td>[Pre-Order] Vogue Korea January Issue (Cover: ...</td>\n      <td>Magazine - 160184 - Vogue Korea - 보그 2022.01 (...</td>\n      <td>1</td>\n      <td>25.99</td>\n      <td>NaN</td>\n      <td>NaN</td>\n      <td>NaN</td>\n      <td>NaN</td>\n      <td>NaN</td>\n    </tr>\n    <tr>\n      <th>3</th>\n      <td>#DBB100470880KR</td>\n      <td>2021-12-27 08:47:07 -0500</td>\n      <td>NaN</td>\n      <td>Vogue Korea</td>\n      <td>[Pre-Order] Vogue Korea January Issue (Cover: ...</td>\n      <td>Magazine - 160183 - Vogue Korea - 보그 2022.01 (...</td>\n      <td>1</td>\n      <td>25.99</td>\n      <td>3.0</td>\n      <td>0.0</td>\n      <td>23.97</td>\n      <td>9.99</td>\n      <td>33.96</td>\n    </tr>\n    <tr>\n      <th>4</th>\n      <td>#DBB100470880KR</td>\n      <td>2021-12-27 08:47:07 -0500</td>\n      <td>NaN</td>\n      <td>Route</td>\n      <td>Route Package Protection - $0.98</td>\n      <td>ROUTEINS10</td>\n      <td>1</td>\n      <td>0.98</td>\n      <td>NaN</td>\n      <td>NaN</td>\n      <td>NaN</td>\n      <td>NaN</td>\n      <td>NaN</td>\n    </tr>\n  </tbody>\n</table>\n</div>"
     },
     "execution_count": 820,
     "metadata": {},
     "output_type": "execute_result"
    }
   ],
   "source": [
    "dfs = df[['Name', 'Created at', 'Fulfilled at', 'Vendor', 'Lineitem name', 'Lineitem sku', 'Lineitem quantity', 'Lineitem price',\n",
    "           'Discount Amount', 'Taxes', 'Subtotal', 'Shipping', 'Total']]\n",
    "dfs.head()"
   ],
   "metadata": {
    "collapsed": false,
    "pycharm": {
     "name": "#%%\n"
    }
   }
  },
  {
   "cell_type": "code",
   "execution_count": 821,
   "outputs": [
    {
     "name": "stderr",
     "output_type": "stream",
     "text": [
      "C:\\Users\\jaesu\\AppData\\Local\\Temp/ipykernel_36200/1350768295.py:1: SettingWithCopyWarning: \n",
      "A value is trying to be set on a copy of a slice from a DataFrame.\n",
      "Try using .loc[row_indexer,col_indexer] = value instead\n",
      "\n",
      "See the caveats in the documentation: https://pandas.pydata.org/pandas-docs/stable/user_guide/indexing.html#returning-a-view-versus-a-copy\n",
      "  dfs['Total(no discount)'] = round(dfs['Lineitem price'].groupby(dfs['Name']).transform('sum'), 2)\n"
     ]
    },
    {
     "data": {
      "text/plain": "              Name                 Created at Fulfilled at       Vendor  \\\n0  #DBB100470881KR  2021-12-27 09:32:10 -0500          NaN     GQ Korea   \n1  #DBB100470881KR  2021-12-27 09:32:10 -0500          NaN        Route   \n2  #DBB100470881KR  2021-12-27 09:32:10 -0500          NaN  Vogue Korea   \n3  #DBB100470880KR  2021-12-27 08:47:07 -0500          NaN  Vogue Korea   \n4  #DBB100470880KR  2021-12-27 08:47:07 -0500          NaN        Route   \n\n                                       Lineitem name  \\\n0  [Pre-Order] GQ Korea January Issue (Cover: BTS...   \n1                   Route Package Protection - $0.98   \n2  [Pre-Order] Vogue Korea January Issue (Cover: ...   \n3  [Pre-Order] Vogue Korea January Issue (Cover: ...   \n4                   Route Package Protection - $0.98   \n\n                                        Lineitem sku  Lineitem quantity  \\\n0  Magazine - 160189 - GQ Korea - 지큐 2022.01 (표지:...                  1   \n1                                         ROUTEINS10                  1   \n2  Magazine - 160184 - Vogue Korea - 보그 2022.01 (...                  1   \n3  Magazine - 160183 - Vogue Korea - 보그 2022.01 (...                  1   \n4                                         ROUTEINS10                  1   \n\n   Lineitem price  Discount Amount  Taxes  Subtotal  Shipping  Total  \\\n0           25.99              0.0    0.0     52.96     19.99  72.95   \n1            0.98              NaN    NaN       NaN       NaN    NaN   \n2           25.99              NaN    NaN       NaN       NaN    NaN   \n3           25.99              3.0    0.0     23.97      9.99  33.96   \n4            0.98              NaN    NaN       NaN       NaN    NaN   \n\n   Total(no discount)  \n0               52.96  \n1               52.96  \n2               52.96  \n3               26.97  \n4               26.97  ",
      "text/html": "<div>\n<style scoped>\n    .dataframe tbody tr th:only-of-type {\n        vertical-align: middle;\n    }\n\n    .dataframe tbody tr th {\n        vertical-align: top;\n    }\n\n    .dataframe thead th {\n        text-align: right;\n    }\n</style>\n<table border=\"1\" class=\"dataframe\">\n  <thead>\n    <tr style=\"text-align: right;\">\n      <th></th>\n      <th>Name</th>\n      <th>Created at</th>\n      <th>Fulfilled at</th>\n      <th>Vendor</th>\n      <th>Lineitem name</th>\n      <th>Lineitem sku</th>\n      <th>Lineitem quantity</th>\n      <th>Lineitem price</th>\n      <th>Discount Amount</th>\n      <th>Taxes</th>\n      <th>Subtotal</th>\n      <th>Shipping</th>\n      <th>Total</th>\n      <th>Total(no discount)</th>\n    </tr>\n  </thead>\n  <tbody>\n    <tr>\n      <th>0</th>\n      <td>#DBB100470881KR</td>\n      <td>2021-12-27 09:32:10 -0500</td>\n      <td>NaN</td>\n      <td>GQ Korea</td>\n      <td>[Pre-Order] GQ Korea January Issue (Cover: BTS...</td>\n      <td>Magazine - 160189 - GQ Korea - 지큐 2022.01 (표지:...</td>\n      <td>1</td>\n      <td>25.99</td>\n      <td>0.0</td>\n      <td>0.0</td>\n      <td>52.96</td>\n      <td>19.99</td>\n      <td>72.95</td>\n      <td>52.96</td>\n    </tr>\n    <tr>\n      <th>1</th>\n      <td>#DBB100470881KR</td>\n      <td>2021-12-27 09:32:10 -0500</td>\n      <td>NaN</td>\n      <td>Route</td>\n      <td>Route Package Protection - $0.98</td>\n      <td>ROUTEINS10</td>\n      <td>1</td>\n      <td>0.98</td>\n      <td>NaN</td>\n      <td>NaN</td>\n      <td>NaN</td>\n      <td>NaN</td>\n      <td>NaN</td>\n      <td>52.96</td>\n    </tr>\n    <tr>\n      <th>2</th>\n      <td>#DBB100470881KR</td>\n      <td>2021-12-27 09:32:10 -0500</td>\n      <td>NaN</td>\n      <td>Vogue Korea</td>\n      <td>[Pre-Order] Vogue Korea January Issue (Cover: ...</td>\n      <td>Magazine - 160184 - Vogue Korea - 보그 2022.01 (...</td>\n      <td>1</td>\n      <td>25.99</td>\n      <td>NaN</td>\n      <td>NaN</td>\n      <td>NaN</td>\n      <td>NaN</td>\n      <td>NaN</td>\n      <td>52.96</td>\n    </tr>\n    <tr>\n      <th>3</th>\n      <td>#DBB100470880KR</td>\n      <td>2021-12-27 08:47:07 -0500</td>\n      <td>NaN</td>\n      <td>Vogue Korea</td>\n      <td>[Pre-Order] Vogue Korea January Issue (Cover: ...</td>\n      <td>Magazine - 160183 - Vogue Korea - 보그 2022.01 (...</td>\n      <td>1</td>\n      <td>25.99</td>\n      <td>3.0</td>\n      <td>0.0</td>\n      <td>23.97</td>\n      <td>9.99</td>\n      <td>33.96</td>\n      <td>26.97</td>\n    </tr>\n    <tr>\n      <th>4</th>\n      <td>#DBB100470880KR</td>\n      <td>2021-12-27 08:47:07 -0500</td>\n      <td>NaN</td>\n      <td>Route</td>\n      <td>Route Package Protection - $0.98</td>\n      <td>ROUTEINS10</td>\n      <td>1</td>\n      <td>0.98</td>\n      <td>NaN</td>\n      <td>NaN</td>\n      <td>NaN</td>\n      <td>NaN</td>\n      <td>NaN</td>\n      <td>26.97</td>\n    </tr>\n  </tbody>\n</table>\n</div>"
     },
     "execution_count": 821,
     "metadata": {},
     "output_type": "execute_result"
    }
   ],
   "source": [
    "dfs['Total(no discount)'] = round(dfs['Lineitem price'].groupby(dfs['Name']).transform('sum'), 2)\n",
    "dfs.head()"
   ],
   "metadata": {
    "collapsed": false,
    "pycharm": {
     "name": "#%%\n"
    }
   }
  },
  {
   "cell_type": "code",
   "execution_count": 822,
   "outputs": [
    {
     "name": "stderr",
     "output_type": "stream",
     "text": [
      "C:\\ProgramData\\Anaconda3\\envs\\pythonProject1\\lib\\site-packages\\pandas\\core\\indexing.py:1817: SettingWithCopyWarning: \n",
      "A value is trying to be set on a copy of a slice from a DataFrame.\n",
      "Try using .loc[row_indexer,col_indexer] = value instead\n",
      "\n",
      "See the caveats in the documentation: https://pandas.pydata.org/pandas-docs/stable/user_guide/indexing.html#returning-a-view-versus-a-copy\n",
      "  self._setitem_single_column(loc, value, pi)\n"
     ]
    }
   ],
   "source": [
    "dfs.loc[dfs.duplicated(['Name']), 'Total(no discount)'] = np.nan"
   ],
   "metadata": {
    "collapsed": false,
    "pycharm": {
     "name": "#%%\n"
    }
   }
  },
  {
   "cell_type": "code",
   "execution_count": 823,
   "outputs": [
    {
     "data": {
      "text/plain": "              Name                 Created at Fulfilled at       Vendor  \\\n0  #DBB100470881KR  2021-12-27 09:32:10 -0500          NaN     GQ Korea   \n1  #DBB100470881KR  2021-12-27 09:32:10 -0500          NaN        Route   \n2  #DBB100470881KR  2021-12-27 09:32:10 -0500          NaN  Vogue Korea   \n3  #DBB100470880KR  2021-12-27 08:47:07 -0500          NaN  Vogue Korea   \n4  #DBB100470880KR  2021-12-27 08:47:07 -0500          NaN        Route   \n\n                                       Lineitem name  \\\n0  [Pre-Order] GQ Korea January Issue (Cover: BTS...   \n1                   Route Package Protection - $0.98   \n2  [Pre-Order] Vogue Korea January Issue (Cover: ...   \n3  [Pre-Order] Vogue Korea January Issue (Cover: ...   \n4                   Route Package Protection - $0.98   \n\n                                        Lineitem sku  Lineitem quantity  \\\n0  Magazine - 160189 - GQ Korea - 지큐 2022.01 (표지:...                  1   \n1                                         ROUTEINS10                  1   \n2  Magazine - 160184 - Vogue Korea - 보그 2022.01 (...                  1   \n3  Magazine - 160183 - Vogue Korea - 보그 2022.01 (...                  1   \n4                                         ROUTEINS10                  1   \n\n   Lineitem price  Discount Amount  Taxes  Subtotal  Shipping  Total  \\\n0           25.99              0.0    0.0     52.96     19.99  72.95   \n1            0.98              NaN    NaN       NaN       NaN    NaN   \n2           25.99              NaN    NaN       NaN       NaN    NaN   \n3           25.99              3.0    0.0     23.97      9.99  33.96   \n4            0.98              NaN    NaN       NaN       NaN    NaN   \n\n   Total(no discount)  \n0               52.96  \n1                 NaN  \n2                 NaN  \n3               26.97  \n4                 NaN  ",
      "text/html": "<div>\n<style scoped>\n    .dataframe tbody tr th:only-of-type {\n        vertical-align: middle;\n    }\n\n    .dataframe tbody tr th {\n        vertical-align: top;\n    }\n\n    .dataframe thead th {\n        text-align: right;\n    }\n</style>\n<table border=\"1\" class=\"dataframe\">\n  <thead>\n    <tr style=\"text-align: right;\">\n      <th></th>\n      <th>Name</th>\n      <th>Created at</th>\n      <th>Fulfilled at</th>\n      <th>Vendor</th>\n      <th>Lineitem name</th>\n      <th>Lineitem sku</th>\n      <th>Lineitem quantity</th>\n      <th>Lineitem price</th>\n      <th>Discount Amount</th>\n      <th>Taxes</th>\n      <th>Subtotal</th>\n      <th>Shipping</th>\n      <th>Total</th>\n      <th>Total(no discount)</th>\n    </tr>\n  </thead>\n  <tbody>\n    <tr>\n      <th>0</th>\n      <td>#DBB100470881KR</td>\n      <td>2021-12-27 09:32:10 -0500</td>\n      <td>NaN</td>\n      <td>GQ Korea</td>\n      <td>[Pre-Order] GQ Korea January Issue (Cover: BTS...</td>\n      <td>Magazine - 160189 - GQ Korea - 지큐 2022.01 (표지:...</td>\n      <td>1</td>\n      <td>25.99</td>\n      <td>0.0</td>\n      <td>0.0</td>\n      <td>52.96</td>\n      <td>19.99</td>\n      <td>72.95</td>\n      <td>52.96</td>\n    </tr>\n    <tr>\n      <th>1</th>\n      <td>#DBB100470881KR</td>\n      <td>2021-12-27 09:32:10 -0500</td>\n      <td>NaN</td>\n      <td>Route</td>\n      <td>Route Package Protection - $0.98</td>\n      <td>ROUTEINS10</td>\n      <td>1</td>\n      <td>0.98</td>\n      <td>NaN</td>\n      <td>NaN</td>\n      <td>NaN</td>\n      <td>NaN</td>\n      <td>NaN</td>\n      <td>NaN</td>\n    </tr>\n    <tr>\n      <th>2</th>\n      <td>#DBB100470881KR</td>\n      <td>2021-12-27 09:32:10 -0500</td>\n      <td>NaN</td>\n      <td>Vogue Korea</td>\n      <td>[Pre-Order] Vogue Korea January Issue (Cover: ...</td>\n      <td>Magazine - 160184 - Vogue Korea - 보그 2022.01 (...</td>\n      <td>1</td>\n      <td>25.99</td>\n      <td>NaN</td>\n      <td>NaN</td>\n      <td>NaN</td>\n      <td>NaN</td>\n      <td>NaN</td>\n      <td>NaN</td>\n    </tr>\n    <tr>\n      <th>3</th>\n      <td>#DBB100470880KR</td>\n      <td>2021-12-27 08:47:07 -0500</td>\n      <td>NaN</td>\n      <td>Vogue Korea</td>\n      <td>[Pre-Order] Vogue Korea January Issue (Cover: ...</td>\n      <td>Magazine - 160183 - Vogue Korea - 보그 2022.01 (...</td>\n      <td>1</td>\n      <td>25.99</td>\n      <td>3.0</td>\n      <td>0.0</td>\n      <td>23.97</td>\n      <td>9.99</td>\n      <td>33.96</td>\n      <td>26.97</td>\n    </tr>\n    <tr>\n      <th>4</th>\n      <td>#DBB100470880KR</td>\n      <td>2021-12-27 08:47:07 -0500</td>\n      <td>NaN</td>\n      <td>Route</td>\n      <td>Route Package Protection - $0.98</td>\n      <td>ROUTEINS10</td>\n      <td>1</td>\n      <td>0.98</td>\n      <td>NaN</td>\n      <td>NaN</td>\n      <td>NaN</td>\n      <td>NaN</td>\n      <td>NaN</td>\n      <td>NaN</td>\n    </tr>\n  </tbody>\n</table>\n</div>"
     },
     "execution_count": 823,
     "metadata": {},
     "output_type": "execute_result"
    }
   ],
   "source": [
    "dfs = dfs[['Name', 'Created at', 'Fulfilled at', 'Vendor', 'Lineitem name', 'Lineitem sku', 'Lineitem quantity',\n",
    "           'Lineitem price', 'Discount Amount', 'Taxes', 'Subtotal', 'Shipping', 'Total', 'Total(no discount)']]\n",
    "dfs.head()"
   ],
   "metadata": {
    "collapsed": false,
    "pycharm": {
     "name": "#%%\n"
    }
   }
  },
  {
   "cell_type": "code",
   "execution_count": 824,
   "outputs": [
    {
     "data": {
      "text/plain": "Name                  33211\nCreated at            33211\nFulfilled at          14302\nVendor                33001\nLineitem name         33211\nLineitem sku          32459\nLineitem quantity     33211\nLineitem price        33211\nDiscount Amount       17248\nTaxes                 17248\nSubtotal              17248\nShipping              17248\nTotal                 17248\nTotal(no discount)    17248\ndtype: int64"
     },
     "execution_count": 824,
     "metadata": {},
     "output_type": "execute_result"
    }
   ],
   "source": [
    "dfs.count()"
   ],
   "metadata": {
    "collapsed": false,
    "pycharm": {
     "name": "#%%\n"
    }
   }
  },
  {
   "cell_type": "code",
   "execution_count": 825,
   "outputs": [
    {
     "data": {
      "text/plain": "   Unnamed: 0           OurRef Net Amount             Name\n0           0  SF6043280890821     15,200  #DBB100467765KR\n1           1  SF6043280890673     12,100  #DBB100467614KR\n2           2  SF6043280890812      8,600  #DBB100467720KR\n3           3  SF6043280891040      8,600  #DBB100467796KR\n4           4  SF6043280890955     13,100  #DBB100467560KR",
      "text/html": "<div>\n<style scoped>\n    .dataframe tbody tr th:only-of-type {\n        vertical-align: middle;\n    }\n\n    .dataframe tbody tr th {\n        vertical-align: top;\n    }\n\n    .dataframe thead th {\n        text-align: right;\n    }\n</style>\n<table border=\"1\" class=\"dataframe\">\n  <thead>\n    <tr style=\"text-align: right;\">\n      <th></th>\n      <th>Unnamed: 0</th>\n      <th>OurRef</th>\n      <th>Net Amount</th>\n      <th>Name</th>\n    </tr>\n  </thead>\n  <tbody>\n    <tr>\n      <th>0</th>\n      <td>0</td>\n      <td>SF6043280890821</td>\n      <td>15,200</td>\n      <td>#DBB100467765KR</td>\n    </tr>\n    <tr>\n      <th>1</th>\n      <td>1</td>\n      <td>SF6043280890673</td>\n      <td>12,100</td>\n      <td>#DBB100467614KR</td>\n    </tr>\n    <tr>\n      <th>2</th>\n      <td>2</td>\n      <td>SF6043280890812</td>\n      <td>8,600</td>\n      <td>#DBB100467720KR</td>\n    </tr>\n    <tr>\n      <th>3</th>\n      <td>3</td>\n      <td>SF6043280891040</td>\n      <td>8,600</td>\n      <td>#DBB100467796KR</td>\n    </tr>\n    <tr>\n      <th>4</th>\n      <td>4</td>\n      <td>SF6043280890955</td>\n      <td>13,100</td>\n      <td>#DBB100467560KR</td>\n    </tr>\n  </tbody>\n</table>\n</div>"
     },
     "execution_count": 825,
     "metadata": {},
     "output_type": "execute_result"
    }
   ],
   "source": [
    "'''\n",
    "file is from SF\n",
    "'''\n",
    "sf = pd.read_csv('sf_12_merged.csv', delimiter=',', encoding='utf-8-sig')\n",
    "sf.head()"
   ],
   "metadata": {
    "collapsed": false,
    "pycharm": {
     "name": "#%%\n"
    }
   }
  },
  {
   "cell_type": "code",
   "execution_count": 826,
   "outputs": [
    {
     "data": {
      "text/plain": "   Unnamed: 0           OurRef Shipping cost             Name\n0           0  SF6043280890821        15,200  #DBB100467765KR\n1           1  SF6043280890673        12,100  #DBB100467614KR\n2           2  SF6043280890812         8,600  #DBB100467720KR\n3           3  SF6043280891040         8,600  #DBB100467796KR\n4           4  SF6043280890955        13,100  #DBB100467560KR",
      "text/html": "<div>\n<style scoped>\n    .dataframe tbody tr th:only-of-type {\n        vertical-align: middle;\n    }\n\n    .dataframe tbody tr th {\n        vertical-align: top;\n    }\n\n    .dataframe thead th {\n        text-align: right;\n    }\n</style>\n<table border=\"1\" class=\"dataframe\">\n  <thead>\n    <tr style=\"text-align: right;\">\n      <th></th>\n      <th>Unnamed: 0</th>\n      <th>OurRef</th>\n      <th>Shipping cost</th>\n      <th>Name</th>\n    </tr>\n  </thead>\n  <tbody>\n    <tr>\n      <th>0</th>\n      <td>0</td>\n      <td>SF6043280890821</td>\n      <td>15,200</td>\n      <td>#DBB100467765KR</td>\n    </tr>\n    <tr>\n      <th>1</th>\n      <td>1</td>\n      <td>SF6043280890673</td>\n      <td>12,100</td>\n      <td>#DBB100467614KR</td>\n    </tr>\n    <tr>\n      <th>2</th>\n      <td>2</td>\n      <td>SF6043280890812</td>\n      <td>8,600</td>\n      <td>#DBB100467720KR</td>\n    </tr>\n    <tr>\n      <th>3</th>\n      <td>3</td>\n      <td>SF6043280891040</td>\n      <td>8,600</td>\n      <td>#DBB100467796KR</td>\n    </tr>\n    <tr>\n      <th>4</th>\n      <td>4</td>\n      <td>SF6043280890955</td>\n      <td>13,100</td>\n      <td>#DBB100467560KR</td>\n    </tr>\n  </tbody>\n</table>\n</div>"
     },
     "execution_count": 826,
     "metadata": {},
     "output_type": "execute_result"
    }
   ],
   "source": [
    "sf.rename(columns={\"Net Amount\":\"Shipping cost\"}, inplace=True)\n",
    "sf.head()"
   ],
   "metadata": {
    "collapsed": false,
    "pycharm": {
     "name": "#%%\n"
    }
   }
  },
  {
   "cell_type": "code",
   "execution_count": 827,
   "outputs": [
    {
     "data": {
      "text/plain": "   Unnamed: 0 Shipping cost             Name\n0           0        15,200  #DBB100467765KR\n1           1        12,100  #DBB100467614KR\n2           2         8,600  #DBB100467720KR\n3           3         8,600  #DBB100467796KR\n4           4        13,100  #DBB100467560KR",
      "text/html": "<div>\n<style scoped>\n    .dataframe tbody tr th:only-of-type {\n        vertical-align: middle;\n    }\n\n    .dataframe tbody tr th {\n        vertical-align: top;\n    }\n\n    .dataframe thead th {\n        text-align: right;\n    }\n</style>\n<table border=\"1\" class=\"dataframe\">\n  <thead>\n    <tr style=\"text-align: right;\">\n      <th></th>\n      <th>Unnamed: 0</th>\n      <th>Shipping cost</th>\n      <th>Name</th>\n    </tr>\n  </thead>\n  <tbody>\n    <tr>\n      <th>0</th>\n      <td>0</td>\n      <td>15,200</td>\n      <td>#DBB100467765KR</td>\n    </tr>\n    <tr>\n      <th>1</th>\n      <td>1</td>\n      <td>12,100</td>\n      <td>#DBB100467614KR</td>\n    </tr>\n    <tr>\n      <th>2</th>\n      <td>2</td>\n      <td>8,600</td>\n      <td>#DBB100467720KR</td>\n    </tr>\n    <tr>\n      <th>3</th>\n      <td>3</td>\n      <td>8,600</td>\n      <td>#DBB100467796KR</td>\n    </tr>\n    <tr>\n      <th>4</th>\n      <td>4</td>\n      <td>13,100</td>\n      <td>#DBB100467560KR</td>\n    </tr>\n  </tbody>\n</table>\n</div>"
     },
     "execution_count": 827,
     "metadata": {},
     "output_type": "execute_result"
    }
   ],
   "source": [
    "sf = sf.drop(columns=['OurRef'])\n",
    "sf.head()"
   ],
   "metadata": {
    "collapsed": false,
    "pycharm": {
     "name": "#%%\n"
    }
   }
  },
  {
   "cell_type": "code",
   "execution_count": 828,
   "outputs": [],
   "source": [
    "# sf['Name'] = '#' + sf['Name'].astype(str)\n",
    "# sf.head()"
   ],
   "metadata": {
    "collapsed": false,
    "pycharm": {
     "name": "#%%\n"
    }
   }
  },
  {
   "cell_type": "code",
   "execution_count": 800,
   "outputs": [
    {
     "data": {
      "text/plain": "    Shipping cost             Name\n0          15,200  #DBB100467765KR\n1          12,100  #DBB100467614KR\n2           8,600  #DBB100467720KR\n3           8,600  #DBB100467796KR\n4          13,100  #DBB100467560KR\n..            ...              ...\n704        14,200  #DBB100469783KR\n705        14,100  #DBB100469774KR\n706        14,200  #DBB100470361KR\n707        14,100  #DBB100469826KR\n708        14,200  #DBB100470380KR\n\n[709 rows x 2 columns]",
      "text/html": "<div>\n<style scoped>\n    .dataframe tbody tr th:only-of-type {\n        vertical-align: middle;\n    }\n\n    .dataframe tbody tr th {\n        vertical-align: top;\n    }\n\n    .dataframe thead th {\n        text-align: right;\n    }\n</style>\n<table border=\"1\" class=\"dataframe\">\n  <thead>\n    <tr style=\"text-align: right;\">\n      <th></th>\n      <th>Shipping cost</th>\n      <th>Name</th>\n    </tr>\n  </thead>\n  <tbody>\n    <tr>\n      <th>0</th>\n      <td>15,200</td>\n      <td>#DBB100467765KR</td>\n    </tr>\n    <tr>\n      <th>1</th>\n      <td>12,100</td>\n      <td>#DBB100467614KR</td>\n    </tr>\n    <tr>\n      <th>2</th>\n      <td>8,600</td>\n      <td>#DBB100467720KR</td>\n    </tr>\n    <tr>\n      <th>3</th>\n      <td>8,600</td>\n      <td>#DBB100467796KR</td>\n    </tr>\n    <tr>\n      <th>4</th>\n      <td>13,100</td>\n      <td>#DBB100467560KR</td>\n    </tr>\n    <tr>\n      <th>...</th>\n      <td>...</td>\n      <td>...</td>\n    </tr>\n    <tr>\n      <th>704</th>\n      <td>14,200</td>\n      <td>#DBB100469783KR</td>\n    </tr>\n    <tr>\n      <th>705</th>\n      <td>14,100</td>\n      <td>#DBB100469774KR</td>\n    </tr>\n    <tr>\n      <th>706</th>\n      <td>14,200</td>\n      <td>#DBB100470361KR</td>\n    </tr>\n    <tr>\n      <th>707</th>\n      <td>14,100</td>\n      <td>#DBB100469826KR</td>\n    </tr>\n    <tr>\n      <th>708</th>\n      <td>14,200</td>\n      <td>#DBB100470380KR</td>\n    </tr>\n  </tbody>\n</table>\n<p>709 rows × 2 columns</p>\n</div>"
     },
     "execution_count": 800,
     "metadata": {},
     "output_type": "execute_result"
    }
   ],
   "source": [
    "sf = sf.drop(columns=[\"Unnamed: 0\"])\n",
    "sf"
   ],
   "metadata": {
    "collapsed": false,
    "pycharm": {
     "name": "#%%\n"
    }
   }
  },
  {
   "cell_type": "code",
   "execution_count": 801,
   "outputs": [],
   "source": [
    "sf[\"Shipping cost\"] = sf[\"Shipping cost\"].str.replace(',', '')\n",
    "sf[\"Shipping cost\"] = sf[\"Shipping cost\"].astype(int) + 3000"
   ],
   "metadata": {
    "collapsed": false,
    "pycharm": {
     "name": "#%%\n"
    }
   }
  },
  {
   "cell_type": "code",
   "execution_count": 802,
   "outputs": [
    {
     "data": {
      "text/plain": "     Shipping cost             Name\n0            18200  #DBB100467765KR\n1            15100  #DBB100467614KR\n2            11600  #DBB100467720KR\n3            11600  #DBB100467796KR\n4            16100  #DBB100467560KR\n..             ...              ...\n704          17200  #DBB100469783KR\n705          17100  #DBB100469774KR\n706          17200  #DBB100470361KR\n707          17100  #DBB100469826KR\n708          17200  #DBB100470380KR\n\n[709 rows x 2 columns]",
      "text/html": "<div>\n<style scoped>\n    .dataframe tbody tr th:only-of-type {\n        vertical-align: middle;\n    }\n\n    .dataframe tbody tr th {\n        vertical-align: top;\n    }\n\n    .dataframe thead th {\n        text-align: right;\n    }\n</style>\n<table border=\"1\" class=\"dataframe\">\n  <thead>\n    <tr style=\"text-align: right;\">\n      <th></th>\n      <th>Shipping cost</th>\n      <th>Name</th>\n    </tr>\n  </thead>\n  <tbody>\n    <tr>\n      <th>0</th>\n      <td>18200</td>\n      <td>#DBB100467765KR</td>\n    </tr>\n    <tr>\n      <th>1</th>\n      <td>15100</td>\n      <td>#DBB100467614KR</td>\n    </tr>\n    <tr>\n      <th>2</th>\n      <td>11600</td>\n      <td>#DBB100467720KR</td>\n    </tr>\n    <tr>\n      <th>3</th>\n      <td>11600</td>\n      <td>#DBB100467796KR</td>\n    </tr>\n    <tr>\n      <th>4</th>\n      <td>16100</td>\n      <td>#DBB100467560KR</td>\n    </tr>\n    <tr>\n      <th>...</th>\n      <td>...</td>\n      <td>...</td>\n    </tr>\n    <tr>\n      <th>704</th>\n      <td>17200</td>\n      <td>#DBB100469783KR</td>\n    </tr>\n    <tr>\n      <th>705</th>\n      <td>17100</td>\n      <td>#DBB100469774KR</td>\n    </tr>\n    <tr>\n      <th>706</th>\n      <td>17200</td>\n      <td>#DBB100470361KR</td>\n    </tr>\n    <tr>\n      <th>707</th>\n      <td>17100</td>\n      <td>#DBB100469826KR</td>\n    </tr>\n    <tr>\n      <th>708</th>\n      <td>17200</td>\n      <td>#DBB100470380KR</td>\n    </tr>\n  </tbody>\n</table>\n<p>709 rows × 2 columns</p>\n</div>"
     },
     "execution_count": 802,
     "metadata": {},
     "output_type": "execute_result"
    }
   ],
   "source": [
    "sf"
   ],
   "metadata": {
    "collapsed": false,
    "pycharm": {
     "name": "#%%\n"
    }
   }
  },
  {
   "cell_type": "code",
   "execution_count": 803,
   "outputs": [
    {
     "data": {
      "text/plain": "          고객번호           인보이스        발송일자          송장번호 상품코드  \\\n0  590558505.0  SELR002819621  2021-11-30  8.459554e+09    P   \n1  590558505.0  SELR002819621  2021-12-03  8.332662e+09    P   \n2  590558505.0  SELR002819621  2021-12-13  6.197338e+09    P   \n3  590558505.0  SELR002819621  2021-12-16  2.122278e+09    P   \n4  590558505.0  SELR002819621  2021-11-24  7.873810e+09    P   \n\n                         상품                      발송국가                 발송도시  \\\n0  EXPRESS WORLDWIDE nondoc  KOREA, REPUBLIC OF (SOUT                SEOUL   \n1  EXPRESS WORLDWIDE nondoc  KOREA, REPUBLIC OF (SOUT                SEOUL   \n2  EXPRESS WORLDWIDE nondoc  KOREA, REPUBLIC OF (SOUT  BUSAN AND SOUTHEAST   \n3  EXPRESS WORLDWIDE nondoc  KOREA, REPUBLIC OF (SOUT                SEOUL   \n4  EXPRESS WORLDWIDE nondoc  KOREA, REPUBLIC OF (SOUT                SEOUL   \n\n  발송지 CODE                  도착국가  ... 운임할인금액 보험금액  유류할증료 유류할증료할인금액  기타금액1  \\\n0      SEL  UNITED ARAB EMIRATES  ...      0    0  5,789       0.0    150   \n1      SEL  UNITED ARAB EMIRATES  ...      0    0  5,819       0.0    300   \n2      PUS  UNITED ARAB EMIRATES  ...      0    0  6,632       0.0    600   \n3      SEL               AUSTRIA  ...      0    0  3,422       0.0    750   \n4      SEL             AUSTRALIA  ...      0    0  4,392       0.0  5,600   \n\n              기타금액1 항목 기타금액2  기타금액2 항목     총금액   통화  \n0  EMERGENCY SITUATION   NaN       NaN  34,736  KRW  \n1  EMERGENCY SITUATION   NaN       NaN  34,916  KRW  \n2  EMERGENCY SITUATION   NaN       NaN  39,791  KRW  \n3  EMERGENCY SITUATION   NaN       NaN  20,534  KRW  \n4  EMERGENCY SITUATION   NaN       NaN  26,354  KRW  \n\n[5 rows x 31 columns]",
      "text/html": "<div>\n<style scoped>\n    .dataframe tbody tr th:only-of-type {\n        vertical-align: middle;\n    }\n\n    .dataframe tbody tr th {\n        vertical-align: top;\n    }\n\n    .dataframe thead th {\n        text-align: right;\n    }\n</style>\n<table border=\"1\" class=\"dataframe\">\n  <thead>\n    <tr style=\"text-align: right;\">\n      <th></th>\n      <th>고객번호</th>\n      <th>인보이스</th>\n      <th>발송일자</th>\n      <th>송장번호</th>\n      <th>상품코드</th>\n      <th>상품</th>\n      <th>발송국가</th>\n      <th>발송도시</th>\n      <th>발송지 CODE</th>\n      <th>도착국가</th>\n      <th>...</th>\n      <th>운임할인금액</th>\n      <th>보험금액</th>\n      <th>유류할증료</th>\n      <th>유류할증료할인금액</th>\n      <th>기타금액1</th>\n      <th>기타금액1 항목</th>\n      <th>기타금액2</th>\n      <th>기타금액2 항목</th>\n      <th>총금액</th>\n      <th>통화</th>\n    </tr>\n  </thead>\n  <tbody>\n    <tr>\n      <th>0</th>\n      <td>590558505.0</td>\n      <td>SELR002819621</td>\n      <td>2021-11-30</td>\n      <td>8.459554e+09</td>\n      <td>P</td>\n      <td>EXPRESS WORLDWIDE nondoc</td>\n      <td>KOREA, REPUBLIC OF (SOUT</td>\n      <td>SEOUL</td>\n      <td>SEL</td>\n      <td>UNITED ARAB EMIRATES</td>\n      <td>...</td>\n      <td>0</td>\n      <td>0</td>\n      <td>5,789</td>\n      <td>0.0</td>\n      <td>150</td>\n      <td>EMERGENCY SITUATION</td>\n      <td>NaN</td>\n      <td>NaN</td>\n      <td>34,736</td>\n      <td>KRW</td>\n    </tr>\n    <tr>\n      <th>1</th>\n      <td>590558505.0</td>\n      <td>SELR002819621</td>\n      <td>2021-12-03</td>\n      <td>8.332662e+09</td>\n      <td>P</td>\n      <td>EXPRESS WORLDWIDE nondoc</td>\n      <td>KOREA, REPUBLIC OF (SOUT</td>\n      <td>SEOUL</td>\n      <td>SEL</td>\n      <td>UNITED ARAB EMIRATES</td>\n      <td>...</td>\n      <td>0</td>\n      <td>0</td>\n      <td>5,819</td>\n      <td>0.0</td>\n      <td>300</td>\n      <td>EMERGENCY SITUATION</td>\n      <td>NaN</td>\n      <td>NaN</td>\n      <td>34,916</td>\n      <td>KRW</td>\n    </tr>\n    <tr>\n      <th>2</th>\n      <td>590558505.0</td>\n      <td>SELR002819621</td>\n      <td>2021-12-13</td>\n      <td>6.197338e+09</td>\n      <td>P</td>\n      <td>EXPRESS WORLDWIDE nondoc</td>\n      <td>KOREA, REPUBLIC OF (SOUT</td>\n      <td>BUSAN AND SOUTHEAST</td>\n      <td>PUS</td>\n      <td>UNITED ARAB EMIRATES</td>\n      <td>...</td>\n      <td>0</td>\n      <td>0</td>\n      <td>6,632</td>\n      <td>0.0</td>\n      <td>600</td>\n      <td>EMERGENCY SITUATION</td>\n      <td>NaN</td>\n      <td>NaN</td>\n      <td>39,791</td>\n      <td>KRW</td>\n    </tr>\n    <tr>\n      <th>3</th>\n      <td>590558505.0</td>\n      <td>SELR002819621</td>\n      <td>2021-12-16</td>\n      <td>2.122278e+09</td>\n      <td>P</td>\n      <td>EXPRESS WORLDWIDE nondoc</td>\n      <td>KOREA, REPUBLIC OF (SOUT</td>\n      <td>SEOUL</td>\n      <td>SEL</td>\n      <td>AUSTRIA</td>\n      <td>...</td>\n      <td>0</td>\n      <td>0</td>\n      <td>3,422</td>\n      <td>0.0</td>\n      <td>750</td>\n      <td>EMERGENCY SITUATION</td>\n      <td>NaN</td>\n      <td>NaN</td>\n      <td>20,534</td>\n      <td>KRW</td>\n    </tr>\n    <tr>\n      <th>4</th>\n      <td>590558505.0</td>\n      <td>SELR002819621</td>\n      <td>2021-11-24</td>\n      <td>7.873810e+09</td>\n      <td>P</td>\n      <td>EXPRESS WORLDWIDE nondoc</td>\n      <td>KOREA, REPUBLIC OF (SOUT</td>\n      <td>SEOUL</td>\n      <td>SEL</td>\n      <td>AUSTRALIA</td>\n      <td>...</td>\n      <td>0</td>\n      <td>0</td>\n      <td>4,392</td>\n      <td>0.0</td>\n      <td>5,600</td>\n      <td>EMERGENCY SITUATION</td>\n      <td>NaN</td>\n      <td>NaN</td>\n      <td>26,354</td>\n      <td>KRW</td>\n    </tr>\n  </tbody>\n</table>\n<p>5 rows × 31 columns</p>\n</div>"
     },
     "execution_count": 803,
     "metadata": {},
     "output_type": "execute_result"
    }
   ],
   "source": [
    "'''\n",
    "file 3 is from dhl\n",
    "'''\n",
    "\"\"\"file 3\"\"\"\n",
    "\n",
    "file_3_list = ['dhl_12.csv']\n",
    "\n",
    "df_from_each_file = (pd.read_csv(f, delimiter=',', encoding='utf-8-sig') for f in file_3_list)\n",
    "file_3 = pd.concat(df_from_each_file, ignore_index=True)\n",
    "file_3.head()"
   ],
   "metadata": {
    "collapsed": false,
    "pycharm": {
     "name": "#%%\n"
    }
   }
  },
  {
   "cell_type": "code",
   "execution_count": 804,
   "outputs": [
    {
     "data": {
      "text/plain": "          고객번호           인보이스        발송일자          송장번호 상품코드  \\\n0  590558505.0  SELR002819621  2021-11-30  8.459554e+09    P   \n1  590558505.0  SELR002819621  2021-12-03  8.332662e+09    P   \n2  590558505.0  SELR002819621  2021-12-13  6.197338e+09    P   \n3  590558505.0  SELR002819621  2021-12-16  2.122278e+09    P   \n4  590558505.0  SELR002819621  2021-11-24  7.873810e+09    P   \n\n                         상품                      발송국가                 발송도시  \\\n0  EXPRESS WORLDWIDE nondoc  KOREA, REPUBLIC OF (SOUT                SEOUL   \n1  EXPRESS WORLDWIDE nondoc  KOREA, REPUBLIC OF (SOUT                SEOUL   \n2  EXPRESS WORLDWIDE nondoc  KOREA, REPUBLIC OF (SOUT  BUSAN AND SOUTHEAST   \n3  EXPRESS WORLDWIDE nondoc  KOREA, REPUBLIC OF (SOUT                SEOUL   \n4  EXPRESS WORLDWIDE nondoc  KOREA, REPUBLIC OF (SOUT                SEOUL   \n\n  발송지 CODE                  도착국가  ... 운임할인금액 보험금액  유류할증료 유류할증료할인금액  기타금액1  \\\n0      SEL  UNITED ARAB EMIRATES  ...      0    0  5,789       0.0    150   \n1      SEL  UNITED ARAB EMIRATES  ...      0    0  5,819       0.0    300   \n2      PUS  UNITED ARAB EMIRATES  ...      0    0  6,632       0.0    600   \n3      SEL               AUSTRIA  ...      0    0  3,422       0.0    750   \n4      SEL             AUSTRALIA  ...      0    0  4,392       0.0  5,600   \n\n              기타금액1 항목 기타금액2  기타금액2 항목  Shipping cost   통화  \n0  EMERGENCY SITUATION   NaN       NaN         34,736  KRW  \n1  EMERGENCY SITUATION   NaN       NaN         34,916  KRW  \n2  EMERGENCY SITUATION   NaN       NaN         39,791  KRW  \n3  EMERGENCY SITUATION   NaN       NaN         20,534  KRW  \n4  EMERGENCY SITUATION   NaN       NaN         26,354  KRW  \n\n[5 rows x 31 columns]",
      "text/html": "<div>\n<style scoped>\n    .dataframe tbody tr th:only-of-type {\n        vertical-align: middle;\n    }\n\n    .dataframe tbody tr th {\n        vertical-align: top;\n    }\n\n    .dataframe thead th {\n        text-align: right;\n    }\n</style>\n<table border=\"1\" class=\"dataframe\">\n  <thead>\n    <tr style=\"text-align: right;\">\n      <th></th>\n      <th>고객번호</th>\n      <th>인보이스</th>\n      <th>발송일자</th>\n      <th>송장번호</th>\n      <th>상품코드</th>\n      <th>상품</th>\n      <th>발송국가</th>\n      <th>발송도시</th>\n      <th>발송지 CODE</th>\n      <th>도착국가</th>\n      <th>...</th>\n      <th>운임할인금액</th>\n      <th>보험금액</th>\n      <th>유류할증료</th>\n      <th>유류할증료할인금액</th>\n      <th>기타금액1</th>\n      <th>기타금액1 항목</th>\n      <th>기타금액2</th>\n      <th>기타금액2 항목</th>\n      <th>Shipping cost</th>\n      <th>통화</th>\n    </tr>\n  </thead>\n  <tbody>\n    <tr>\n      <th>0</th>\n      <td>590558505.0</td>\n      <td>SELR002819621</td>\n      <td>2021-11-30</td>\n      <td>8.459554e+09</td>\n      <td>P</td>\n      <td>EXPRESS WORLDWIDE nondoc</td>\n      <td>KOREA, REPUBLIC OF (SOUT</td>\n      <td>SEOUL</td>\n      <td>SEL</td>\n      <td>UNITED ARAB EMIRATES</td>\n      <td>...</td>\n      <td>0</td>\n      <td>0</td>\n      <td>5,789</td>\n      <td>0.0</td>\n      <td>150</td>\n      <td>EMERGENCY SITUATION</td>\n      <td>NaN</td>\n      <td>NaN</td>\n      <td>34,736</td>\n      <td>KRW</td>\n    </tr>\n    <tr>\n      <th>1</th>\n      <td>590558505.0</td>\n      <td>SELR002819621</td>\n      <td>2021-12-03</td>\n      <td>8.332662e+09</td>\n      <td>P</td>\n      <td>EXPRESS WORLDWIDE nondoc</td>\n      <td>KOREA, REPUBLIC OF (SOUT</td>\n      <td>SEOUL</td>\n      <td>SEL</td>\n      <td>UNITED ARAB EMIRATES</td>\n      <td>...</td>\n      <td>0</td>\n      <td>0</td>\n      <td>5,819</td>\n      <td>0.0</td>\n      <td>300</td>\n      <td>EMERGENCY SITUATION</td>\n      <td>NaN</td>\n      <td>NaN</td>\n      <td>34,916</td>\n      <td>KRW</td>\n    </tr>\n    <tr>\n      <th>2</th>\n      <td>590558505.0</td>\n      <td>SELR002819621</td>\n      <td>2021-12-13</td>\n      <td>6.197338e+09</td>\n      <td>P</td>\n      <td>EXPRESS WORLDWIDE nondoc</td>\n      <td>KOREA, REPUBLIC OF (SOUT</td>\n      <td>BUSAN AND SOUTHEAST</td>\n      <td>PUS</td>\n      <td>UNITED ARAB EMIRATES</td>\n      <td>...</td>\n      <td>0</td>\n      <td>0</td>\n      <td>6,632</td>\n      <td>0.0</td>\n      <td>600</td>\n      <td>EMERGENCY SITUATION</td>\n      <td>NaN</td>\n      <td>NaN</td>\n      <td>39,791</td>\n      <td>KRW</td>\n    </tr>\n    <tr>\n      <th>3</th>\n      <td>590558505.0</td>\n      <td>SELR002819621</td>\n      <td>2021-12-16</td>\n      <td>2.122278e+09</td>\n      <td>P</td>\n      <td>EXPRESS WORLDWIDE nondoc</td>\n      <td>KOREA, REPUBLIC OF (SOUT</td>\n      <td>SEOUL</td>\n      <td>SEL</td>\n      <td>AUSTRIA</td>\n      <td>...</td>\n      <td>0</td>\n      <td>0</td>\n      <td>3,422</td>\n      <td>0.0</td>\n      <td>750</td>\n      <td>EMERGENCY SITUATION</td>\n      <td>NaN</td>\n      <td>NaN</td>\n      <td>20,534</td>\n      <td>KRW</td>\n    </tr>\n    <tr>\n      <th>4</th>\n      <td>590558505.0</td>\n      <td>SELR002819621</td>\n      <td>2021-11-24</td>\n      <td>7.873810e+09</td>\n      <td>P</td>\n      <td>EXPRESS WORLDWIDE nondoc</td>\n      <td>KOREA, REPUBLIC OF (SOUT</td>\n      <td>SEOUL</td>\n      <td>SEL</td>\n      <td>AUSTRALIA</td>\n      <td>...</td>\n      <td>0</td>\n      <td>0</td>\n      <td>4,392</td>\n      <td>0.0</td>\n      <td>5,600</td>\n      <td>EMERGENCY SITUATION</td>\n      <td>NaN</td>\n      <td>NaN</td>\n      <td>26,354</td>\n      <td>KRW</td>\n    </tr>\n  </tbody>\n</table>\n<p>5 rows × 31 columns</p>\n</div>"
     },
     "execution_count": 804,
     "metadata": {},
     "output_type": "execute_result"
    }
   ],
   "source": [
    "file_3.rename(columns={\"Reference\" : \"Name\", \"총금액\" : \"Shipping cost\", }, inplace=True)\n",
    "file_3.head()"
   ],
   "metadata": {
    "collapsed": false,
    "pycharm": {
     "name": "#%%\n"
    }
   }
  },
  {
   "cell_type": "code",
   "execution_count": 805,
   "outputs": [
    {
     "data": {
      "text/plain": "                 Name Shipping cost\n0     #DBB100467693KR        34,736\n1     #DBB100467452KR        34,916\n2     #DBB100466991KR        39,791\n3     #DBB100468375KR        20,534\n4     #DBB100464362KR        26,354\n...               ...           ...\n2933  #DBB100461571KR        23,592\n2934  #DBB100461646KR        23,592\n2935  #DBB100467768KR        20,904\n2936  #DBB100469964KR        19,348\n2937              NaN    80,298,333\n\n[2938 rows x 2 columns]",
      "text/html": "<div>\n<style scoped>\n    .dataframe tbody tr th:only-of-type {\n        vertical-align: middle;\n    }\n\n    .dataframe tbody tr th {\n        vertical-align: top;\n    }\n\n    .dataframe thead th {\n        text-align: right;\n    }\n</style>\n<table border=\"1\" class=\"dataframe\">\n  <thead>\n    <tr style=\"text-align: right;\">\n      <th></th>\n      <th>Name</th>\n      <th>Shipping cost</th>\n    </tr>\n  </thead>\n  <tbody>\n    <tr>\n      <th>0</th>\n      <td>#DBB100467693KR</td>\n      <td>34,736</td>\n    </tr>\n    <tr>\n      <th>1</th>\n      <td>#DBB100467452KR</td>\n      <td>34,916</td>\n    </tr>\n    <tr>\n      <th>2</th>\n      <td>#DBB100466991KR</td>\n      <td>39,791</td>\n    </tr>\n    <tr>\n      <th>3</th>\n      <td>#DBB100468375KR</td>\n      <td>20,534</td>\n    </tr>\n    <tr>\n      <th>4</th>\n      <td>#DBB100464362KR</td>\n      <td>26,354</td>\n    </tr>\n    <tr>\n      <th>...</th>\n      <td>...</td>\n      <td>...</td>\n    </tr>\n    <tr>\n      <th>2933</th>\n      <td>#DBB100461571KR</td>\n      <td>23,592</td>\n    </tr>\n    <tr>\n      <th>2934</th>\n      <td>#DBB100461646KR</td>\n      <td>23,592</td>\n    </tr>\n    <tr>\n      <th>2935</th>\n      <td>#DBB100467768KR</td>\n      <td>20,904</td>\n    </tr>\n    <tr>\n      <th>2936</th>\n      <td>#DBB100469964KR</td>\n      <td>19,348</td>\n    </tr>\n    <tr>\n      <th>2937</th>\n      <td>NaN</td>\n      <td>80,298,333</td>\n    </tr>\n  </tbody>\n</table>\n<p>2938 rows × 2 columns</p>\n</div>"
     },
     "execution_count": 805,
     "metadata": {},
     "output_type": "execute_result"
    }
   ],
   "source": [
    "dhl = file_3[['Name', 'Shipping cost']]\n",
    "dhl"
   ],
   "metadata": {
    "collapsed": false,
    "pycharm": {
     "name": "#%%\n"
    }
   }
  },
  {
   "cell_type": "code",
   "execution_count": 806,
   "outputs": [
    {
     "data": {
      "text/plain": "              Name Shipping cost\n0  #DBB100467693KR        34,736\n1  #DBB100467452KR        34,916\n2  #DBB100466991KR        39,791\n3  #DBB100468375KR        20,534\n4  #DBB100464362KR        26,354",
      "text/html": "<div>\n<style scoped>\n    .dataframe tbody tr th:only-of-type {\n        vertical-align: middle;\n    }\n\n    .dataframe tbody tr th {\n        vertical-align: top;\n    }\n\n    .dataframe thead th {\n        text-align: right;\n    }\n</style>\n<table border=\"1\" class=\"dataframe\">\n  <thead>\n    <tr style=\"text-align: right;\">\n      <th></th>\n      <th>Name</th>\n      <th>Shipping cost</th>\n    </tr>\n  </thead>\n  <tbody>\n    <tr>\n      <th>0</th>\n      <td>#DBB100467693KR</td>\n      <td>34,736</td>\n    </tr>\n    <tr>\n      <th>1</th>\n      <td>#DBB100467452KR</td>\n      <td>34,916</td>\n    </tr>\n    <tr>\n      <th>2</th>\n      <td>#DBB100466991KR</td>\n      <td>39,791</td>\n    </tr>\n    <tr>\n      <th>3</th>\n      <td>#DBB100468375KR</td>\n      <td>20,534</td>\n    </tr>\n    <tr>\n      <th>4</th>\n      <td>#DBB100464362KR</td>\n      <td>26,354</td>\n    </tr>\n  </tbody>\n</table>\n</div>"
     },
     "execution_count": 806,
     "metadata": {},
     "output_type": "execute_result"
    }
   ],
   "source": [
    "\"\"\"\n",
    "merging dhl with sf\n",
    "\"\"\"\n",
    "\n",
    "\"\"\"concatenate all 3 files\"\"\"\n",
    "combined_purchase = pd.concat([dhl, sf])\n",
    "combined_purchase.head()"
   ],
   "metadata": {
    "collapsed": false,
    "pycharm": {
     "name": "#%%\n"
    }
   }
  },
  {
   "cell_type": "code",
   "execution_count": 807,
   "outputs": [
    {
     "data": {
      "text/plain": "Name             3646\nShipping cost    3647\ndtype: int64"
     },
     "execution_count": 807,
     "metadata": {},
     "output_type": "execute_result"
    }
   ],
   "source": [
    "combined_purchase.count()"
   ],
   "metadata": {
    "collapsed": false,
    "pycharm": {
     "name": "#%%\n"
    }
   }
  },
  {
   "cell_type": "code",
   "execution_count": 808,
   "outputs": [
    {
     "data": {
      "text/plain": "              Name                 Created at Fulfilled at     Vendor  \\\n0  #DBB100470879KR  2021-12-27 07:38:32 -0500          NaN   LUVCRUSH   \n1  #DBB100470869KR  2021-12-27 02:36:48 -0500          NaN      Route   \n2  #DBB100470869KR  2021-12-27 02:36:48 -0500          NaN  BLACKPINK   \n3  #DBB100470864KR  2021-12-27 01:38:58 -0500          NaN   GQ Korea   \n4  #DBB100470862KR  2021-12-27 01:29:04 -0500          NaN   GQ Korea   \n\n                                       Lineitem name  \\\n0            Yumi's Cells / Space Rabbit T-Shirt - M   \n1                   Route Package Protection - $0.98   \n2  BLACKPINK Official Light Stick Ver.2 (Limited ...   \n3  [Pre-Order] GQ Korea January Issue (Cover: BTS...   \n4  [Pre-Order] GQ Korea January Issue (Cover: BTS...   \n\n                                        Lineitem sku  Lineitem quantity  \\\n0   K-Drama - 90320 - LUVCRUSH - 스페이스래빗 티셔츠 - M - DA                  1   \n1                                         ROUTEINS10                  1   \n2  Lightstick - 120049 - BLACKPINK - 블랙핑크 공식 응원봉 ...                  1   \n3  Magazine - 160189 - GQ Korea - 지큐 2022.01 (표지:...                  1   \n4  Magazine - 160189 - GQ Korea - 지큐 2022.01 (표지:...                  1   \n\n   Lineitem price  Discount Amount  Taxes  Subtotal  Shipping  Total  \\\n0           56.99              0.0   0.00     56.99      9.99  66.98   \n1            0.98              0.0   4.35     60.97      9.99  75.31   \n2           59.99              NaN    NaN       NaN       NaN    NaN   \n3           25.99              5.0   0.00     20.99      9.99  30.98   \n4           25.99              0.0   2.27     25.99      9.99  38.25   \n\n   Total(no discount) Shipping cost  \n0               56.99         11500  \n1               60.97         13900  \n2                 NaN         13900  \n3               25.99         17200  \n4               25.99         17200  ",
      "text/html": "<div>\n<style scoped>\n    .dataframe tbody tr th:only-of-type {\n        vertical-align: middle;\n    }\n\n    .dataframe tbody tr th {\n        vertical-align: top;\n    }\n\n    .dataframe thead th {\n        text-align: right;\n    }\n</style>\n<table border=\"1\" class=\"dataframe\">\n  <thead>\n    <tr style=\"text-align: right;\">\n      <th></th>\n      <th>Name</th>\n      <th>Created at</th>\n      <th>Fulfilled at</th>\n      <th>Vendor</th>\n      <th>Lineitem name</th>\n      <th>Lineitem sku</th>\n      <th>Lineitem quantity</th>\n      <th>Lineitem price</th>\n      <th>Discount Amount</th>\n      <th>Taxes</th>\n      <th>Subtotal</th>\n      <th>Shipping</th>\n      <th>Total</th>\n      <th>Total(no discount)</th>\n      <th>Shipping cost</th>\n    </tr>\n  </thead>\n  <tbody>\n    <tr>\n      <th>0</th>\n      <td>#DBB100470879KR</td>\n      <td>2021-12-27 07:38:32 -0500</td>\n      <td>NaN</td>\n      <td>LUVCRUSH</td>\n      <td>Yumi's Cells / Space Rabbit T-Shirt - M</td>\n      <td>K-Drama - 90320 - LUVCRUSH - 스페이스래빗 티셔츠 - M - DA</td>\n      <td>1</td>\n      <td>56.99</td>\n      <td>0.0</td>\n      <td>0.00</td>\n      <td>56.99</td>\n      <td>9.99</td>\n      <td>66.98</td>\n      <td>56.99</td>\n      <td>11500</td>\n    </tr>\n    <tr>\n      <th>1</th>\n      <td>#DBB100470869KR</td>\n      <td>2021-12-27 02:36:48 -0500</td>\n      <td>NaN</td>\n      <td>Route</td>\n      <td>Route Package Protection - $0.98</td>\n      <td>ROUTEINS10</td>\n      <td>1</td>\n      <td>0.98</td>\n      <td>0.0</td>\n      <td>4.35</td>\n      <td>60.97</td>\n      <td>9.99</td>\n      <td>75.31</td>\n      <td>60.97</td>\n      <td>13900</td>\n    </tr>\n    <tr>\n      <th>2</th>\n      <td>#DBB100470869KR</td>\n      <td>2021-12-27 02:36:48 -0500</td>\n      <td>NaN</td>\n      <td>BLACKPINK</td>\n      <td>BLACKPINK Official Light Stick Ver.2 (Limited ...</td>\n      <td>Lightstick - 120049 - BLACKPINK - 블랙핑크 공식 응원봉 ...</td>\n      <td>1</td>\n      <td>59.99</td>\n      <td>NaN</td>\n      <td>NaN</td>\n      <td>NaN</td>\n      <td>NaN</td>\n      <td>NaN</td>\n      <td>NaN</td>\n      <td>13900</td>\n    </tr>\n    <tr>\n      <th>3</th>\n      <td>#DBB100470864KR</td>\n      <td>2021-12-27 01:38:58 -0500</td>\n      <td>NaN</td>\n      <td>GQ Korea</td>\n      <td>[Pre-Order] GQ Korea January Issue (Cover: BTS...</td>\n      <td>Magazine - 160189 - GQ Korea - 지큐 2022.01 (표지:...</td>\n      <td>1</td>\n      <td>25.99</td>\n      <td>5.0</td>\n      <td>0.00</td>\n      <td>20.99</td>\n      <td>9.99</td>\n      <td>30.98</td>\n      <td>25.99</td>\n      <td>17200</td>\n    </tr>\n    <tr>\n      <th>4</th>\n      <td>#DBB100470862KR</td>\n      <td>2021-12-27 01:29:04 -0500</td>\n      <td>NaN</td>\n      <td>GQ Korea</td>\n      <td>[Pre-Order] GQ Korea January Issue (Cover: BTS...</td>\n      <td>Magazine - 160189 - GQ Korea - 지큐 2022.01 (표지:...</td>\n      <td>1</td>\n      <td>25.99</td>\n      <td>0.0</td>\n      <td>2.27</td>\n      <td>25.99</td>\n      <td>9.99</td>\n      <td>38.25</td>\n      <td>25.99</td>\n      <td>17200</td>\n    </tr>\n  </tbody>\n</table>\n</div>"
     },
     "execution_count": 808,
     "metadata": {},
     "output_type": "execute_result"
    }
   ],
   "source": [
    "\"\"\"merging file\"\"\"\n",
    "merged = dfs.merge(combined_purchase, on=['Name'], how='inner')\n",
    "merged.head()"
   ],
   "metadata": {
    "collapsed": false,
    "pycharm": {
     "name": "#%%\n"
    }
   }
  },
  {
   "cell_type": "code",
   "execution_count": 809,
   "outputs": [
    {
     "data": {
      "text/plain": "Name                  7074\nCreated at            7074\nFulfilled at          3206\nVendor                6987\nLineitem name         7074\nLineitem sku          6950\nLineitem quantity     7074\nLineitem price        7074\nDiscount Amount       3454\nTaxes                 3454\nSubtotal              3454\nShipping              3454\nTotal                 3454\nTotal(no discount)    3454\nShipping cost         7074\ndtype: int64"
     },
     "execution_count": 809,
     "metadata": {},
     "output_type": "execute_result"
    }
   ],
   "source": [
    "merged.count()"
   ],
   "metadata": {
    "collapsed": false,
    "pycharm": {
     "name": "#%%\n"
    }
   }
  },
  {
   "cell_type": "code",
   "execution_count": 810,
   "outputs": [],
   "source": [
    "# merged = merged[merged['Created at'].notna()]"
   ],
   "metadata": {
    "collapsed": false,
    "pycharm": {
     "name": "#%%\n"
    }
   }
  },
  {
   "cell_type": "code",
   "execution_count": 811,
   "outputs": [
    {
     "data": {
      "text/plain": "Name                  7074\nCreated at            7074\nFulfilled at          3206\nVendor                6987\nLineitem name         7074\nLineitem sku          6950\nLineitem quantity     7074\nLineitem price        7074\nDiscount Amount       3454\nTaxes                 3454\nSubtotal              3454\nShipping              3454\nTotal                 3454\nTotal(no discount)    3454\nShipping cost         7074\ndtype: int64"
     },
     "execution_count": 811,
     "metadata": {},
     "output_type": "execute_result"
    }
   ],
   "source": [
    "merged.count()"
   ],
   "metadata": {
    "collapsed": false,
    "pycharm": {
     "name": "#%%\n"
    }
   }
  },
  {
   "cell_type": "code",
   "execution_count": 812,
   "outputs": [],
   "source": [
    "merged.loc[merged.duplicated(['Name']), 'Shipping cost'] = np.nan"
   ],
   "metadata": {
    "collapsed": false,
    "pycharm": {
     "name": "#%%\n"
    }
   }
  },
  {
   "cell_type": "code",
   "execution_count": 813,
   "outputs": [
    {
     "data": {
      "text/plain": "Name                  7074\nCreated at            7074\nFulfilled at          3206\nVendor                6987\nLineitem name         7074\nLineitem sku          6950\nLineitem quantity     7074\nLineitem price        7074\nDiscount Amount       3454\nTaxes                 3454\nSubtotal              3454\nShipping              3454\nTotal                 3454\nTotal(no discount)    3454\nShipping cost         3454\ndtype: int64"
     },
     "execution_count": 813,
     "metadata": {},
     "output_type": "execute_result"
    }
   ],
   "source": [
    "merged.count()"
   ],
   "metadata": {
    "collapsed": false,
    "pycharm": {
     "name": "#%%\n"
    }
   }
  },
  {
   "cell_type": "code",
   "execution_count": 814,
   "outputs": [
    {
     "data": {
      "text/plain": "              Name                 Created at Fulfilled at     Vendor  \\\n0  #DBB100470879KR  2021-12-27 07:38:32 -0500          NaN   LUVCRUSH   \n1  #DBB100470869KR  2021-12-27 02:36:48 -0500          NaN      Route   \n2  #DBB100470869KR  2021-12-27 02:36:48 -0500          NaN  BLACKPINK   \n3  #DBB100470864KR  2021-12-27 01:38:58 -0500          NaN   GQ Korea   \n4  #DBB100470862KR  2021-12-27 01:29:04 -0500          NaN   GQ Korea   \n\n                                       Lineitem name  \\\n0            Yumi's Cells / Space Rabbit T-Shirt - M   \n1                   Route Package Protection - $0.98   \n2  BLACKPINK Official Light Stick Ver.2 (Limited ...   \n3  [Pre-Order] GQ Korea January Issue (Cover: BTS...   \n4  [Pre-Order] GQ Korea January Issue (Cover: BTS...   \n\n                                        Lineitem sku  Lineitem quantity  \\\n0   K-Drama - 90320 - LUVCRUSH - 스페이스래빗 티셔츠 - M - DA                  1   \n1                                         ROUTEINS10                  1   \n2  Lightstick - 120049 - BLACKPINK - 블랙핑크 공식 응원봉 ...                  1   \n3  Magazine - 160189 - GQ Korea - 지큐 2022.01 (표지:...                  1   \n4  Magazine - 160189 - GQ Korea - 지큐 2022.01 (표지:...                  1   \n\n   Lineitem price  Discount Amount  Taxes  Subtotal  Shipping  Total  \\\n0           56.99              0.0   0.00     56.99      9.99  66.98   \n1            0.98              0.0   4.35     60.97      9.99  75.31   \n2           59.99              NaN    NaN       NaN       NaN    NaN   \n3           25.99              5.0   0.00     20.99      9.99  30.98   \n4           25.99              0.0   2.27     25.99      9.99  38.25   \n\n   Total(no discount) Shipping cost  \n0               56.99         11500  \n1               60.97         13900  \n2                 NaN           NaN  \n3               25.99         17200  \n4               25.99         17200  ",
      "text/html": "<div>\n<style scoped>\n    .dataframe tbody tr th:only-of-type {\n        vertical-align: middle;\n    }\n\n    .dataframe tbody tr th {\n        vertical-align: top;\n    }\n\n    .dataframe thead th {\n        text-align: right;\n    }\n</style>\n<table border=\"1\" class=\"dataframe\">\n  <thead>\n    <tr style=\"text-align: right;\">\n      <th></th>\n      <th>Name</th>\n      <th>Created at</th>\n      <th>Fulfilled at</th>\n      <th>Vendor</th>\n      <th>Lineitem name</th>\n      <th>Lineitem sku</th>\n      <th>Lineitem quantity</th>\n      <th>Lineitem price</th>\n      <th>Discount Amount</th>\n      <th>Taxes</th>\n      <th>Subtotal</th>\n      <th>Shipping</th>\n      <th>Total</th>\n      <th>Total(no discount)</th>\n      <th>Shipping cost</th>\n    </tr>\n  </thead>\n  <tbody>\n    <tr>\n      <th>0</th>\n      <td>#DBB100470879KR</td>\n      <td>2021-12-27 07:38:32 -0500</td>\n      <td>NaN</td>\n      <td>LUVCRUSH</td>\n      <td>Yumi's Cells / Space Rabbit T-Shirt - M</td>\n      <td>K-Drama - 90320 - LUVCRUSH - 스페이스래빗 티셔츠 - M - DA</td>\n      <td>1</td>\n      <td>56.99</td>\n      <td>0.0</td>\n      <td>0.00</td>\n      <td>56.99</td>\n      <td>9.99</td>\n      <td>66.98</td>\n      <td>56.99</td>\n      <td>11500</td>\n    </tr>\n    <tr>\n      <th>1</th>\n      <td>#DBB100470869KR</td>\n      <td>2021-12-27 02:36:48 -0500</td>\n      <td>NaN</td>\n      <td>Route</td>\n      <td>Route Package Protection - $0.98</td>\n      <td>ROUTEINS10</td>\n      <td>1</td>\n      <td>0.98</td>\n      <td>0.0</td>\n      <td>4.35</td>\n      <td>60.97</td>\n      <td>9.99</td>\n      <td>75.31</td>\n      <td>60.97</td>\n      <td>13900</td>\n    </tr>\n    <tr>\n      <th>2</th>\n      <td>#DBB100470869KR</td>\n      <td>2021-12-27 02:36:48 -0500</td>\n      <td>NaN</td>\n      <td>BLACKPINK</td>\n      <td>BLACKPINK Official Light Stick Ver.2 (Limited ...</td>\n      <td>Lightstick - 120049 - BLACKPINK - 블랙핑크 공식 응원봉 ...</td>\n      <td>1</td>\n      <td>59.99</td>\n      <td>NaN</td>\n      <td>NaN</td>\n      <td>NaN</td>\n      <td>NaN</td>\n      <td>NaN</td>\n      <td>NaN</td>\n      <td>NaN</td>\n    </tr>\n    <tr>\n      <th>3</th>\n      <td>#DBB100470864KR</td>\n      <td>2021-12-27 01:38:58 -0500</td>\n      <td>NaN</td>\n      <td>GQ Korea</td>\n      <td>[Pre-Order] GQ Korea January Issue (Cover: BTS...</td>\n      <td>Magazine - 160189 - GQ Korea - 지큐 2022.01 (표지:...</td>\n      <td>1</td>\n      <td>25.99</td>\n      <td>5.0</td>\n      <td>0.00</td>\n      <td>20.99</td>\n      <td>9.99</td>\n      <td>30.98</td>\n      <td>25.99</td>\n      <td>17200</td>\n    </tr>\n    <tr>\n      <th>4</th>\n      <td>#DBB100470862KR</td>\n      <td>2021-12-27 01:29:04 -0500</td>\n      <td>NaN</td>\n      <td>GQ Korea</td>\n      <td>[Pre-Order] GQ Korea January Issue (Cover: BTS...</td>\n      <td>Magazine - 160189 - GQ Korea - 지큐 2022.01 (표지:...</td>\n      <td>1</td>\n      <td>25.99</td>\n      <td>0.0</td>\n      <td>2.27</td>\n      <td>25.99</td>\n      <td>9.99</td>\n      <td>38.25</td>\n      <td>25.99</td>\n      <td>17200</td>\n    </tr>\n  </tbody>\n</table>\n</div>"
     },
     "execution_count": 814,
     "metadata": {},
     "output_type": "execute_result"
    }
   ],
   "source": [
    "merged.head()"
   ],
   "metadata": {
    "collapsed": false,
    "pycharm": {
     "name": "#%%\n"
    }
   }
  },
  {
   "cell_type": "code",
   "execution_count": 815,
   "outputs": [],
   "source": [
    "merged.to_csv(\"Dec_revised2.csv\", encoding='utf-8-sig')\n"
   ],
   "metadata": {
    "collapsed": false,
    "pycharm": {
     "name": "#%%\n"
    }
   }
  },
  {
   "cell_type": "code",
   "execution_count": 757,
   "outputs": [],
   "source": [],
   "metadata": {
    "collapsed": false,
    "pycharm": {
     "name": "#%%\n"
    }
   }
  }
 ],
 "metadata": {
  "kernelspec": {
   "display_name": "Python 3",
   "language": "python",
   "name": "python3"
  },
  "language_info": {
   "codemirror_mode": {
    "name": "ipython",
    "version": 2
   },
   "file_extension": ".py",
   "mimetype": "text/x-python",
   "name": "python",
   "nbconvert_exporter": "python",
   "pygments_lexer": "ipython2",
   "version": "2.7.6"
  }
 },
 "nbformat": 4,
 "nbformat_minor": 0
}