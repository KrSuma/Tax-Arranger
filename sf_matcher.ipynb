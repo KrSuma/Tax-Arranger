{
 "cells": [
  {
   "cell_type": "code",
   "execution_count": 12,
   "metadata": {
    "collapsed": true
   },
   "outputs": [],
   "source": [
    "import pandas as pd\n",
    "import numpy as np\n",
    "import time\n",
    "from time import gmtime, strftime\n",
    "import openpyxl\n",
    "\n",
    "date = strftime(\"%Y-%m-%d\", gmtime())"
   ]
  },
  {
   "cell_type": "code",
   "execution_count": 13,
   "outputs": [],
   "source": [
    "sf = pd.read_csv(\"sf_12.csv\")\n",
    "sf_sent = pd.read_csv(\"sf_12_sent.csv\")"
   ],
   "metadata": {
    "collapsed": false,
    "pycharm": {
     "name": "#%%\n"
    }
   }
  },
  {
   "cell_type": "code",
   "execution_count": 14,
   "outputs": [],
   "source": [
    "\"\"\"\n",
    "so apparently out of fucking nowhere\n",
    "there is a value 'temporary value' within the 'charge type' column\n",
    "we need to get rid of any rows that have 'temp. value'. wtf.\n",
    "\n",
    "we are adding the 3000원 later in the tax arranger script.\n",
    "\"\"\"\n",
    "\n",
    "sf.drop(sf.index[sf['Charge Type'] == 'Temporary Surcharge'], inplace=True)"
   ],
   "metadata": {
    "collapsed": false,
    "pycharm": {
     "name": "#%%\n"
    }
   }
  },
  {
   "cell_type": "code",
   "execution_count": 15,
   "outputs": [
    {
     "data": {
      "text/plain": "NO.                                       762\nInvoice Date                              762\nInvoice NO.                               762\nOurRef                                    762\nBilling Date                              762\nPick-up Date                              763\nDelivery Date                             375\nCustomer Reference                          2\nChargeable unit                           762\nChargeable Weight                         764\nProduct                                   762\nConsignee Company Name                    762\nConsignee Destination (Country/Region)    762\nDestination City Name                     762\nDestination City Code                     762\nDestination Postal Code                   762\nConsignee Contact Name                    762\nConsignee Address                         762\nShipper Company Name                      762\nShipper Origin (Country/Region)           762\nOrigin City Name                          762\nOriginal Network Code                     762\nOrigin Postal Code                        762\nShipper Contact Name                      762\nShipper Address                           763\nCurrency                                  763\nCharge Type                               764\nCharge Amount                             765\nDiscount Amount                           765\nDeduction Amount                          765\nGST / VAT Amount                          765\nNet Amount                                765\ndtype: int64"
     },
     "execution_count": 15,
     "metadata": {},
     "output_type": "execute_result"
    }
   ],
   "source": [
    "sf.count()"
   ],
   "metadata": {
    "collapsed": false,
    "pycharm": {
     "name": "#%%\n"
    }
   }
  },
  {
   "cell_type": "code",
   "execution_count": 16,
   "outputs": [
    {
     "data": {
      "text/plain": "序号         770\n订单上传时间     770\nName       770\nOurRef     770\n代理运单号      752\n业务类型       770\n收方地址       770\n收方城市       770\n收方联系人      770\n收方国家       770\n收方电话       770\n收件人邮箱      739\n收方手机       770\n到方公司       770\n收方邮编       770\n收方省份       770\n寄方联系人      770\n寄方省份       770\n寄方地址       770\n寄方城市       770\n寄方邮编       770\n寄方手机       770\n寄方电话       770\n寄方公司       770\n是否带电       770\n货物总重量      770\n真实的重量      770\n体积重          0\n计费重        770\n货物申明价值     770\n英文申报品名1    770\n中文申报品名1     29\n货物数量1      770\n货物单位重量1    770\n货物单位价值1    770\n英文申报品名2     29\n中文申报品名2      0\n货物数量2        0\n货物单位重量2      0\n货物单位价值2      0\n英文申报品名3      0\n中文申报品名3      0\n货物数量3        0\n货物单位重量3      0\n货物单位价值3      0\ndtype: int64"
     },
     "execution_count": 16,
     "metadata": {},
     "output_type": "execute_result"
    }
   ],
   "source": [
    "sf_sent.count()"
   ],
   "metadata": {
    "collapsed": false,
    "pycharm": {
     "name": "#%%\n"
    }
   }
  },
  {
   "cell_type": "code",
   "execution_count": 17,
   "outputs": [],
   "source": [
    "sf = sf[[\"OurRef\", \"Net Amount\"]]\n",
    "sf_sent = sf_sent[[\"OurRef\", \"Name\"]]"
   ],
   "metadata": {
    "collapsed": false,
    "pycharm": {
     "name": "#%%\n"
    }
   }
  },
  {
   "cell_type": "code",
   "execution_count": 18,
   "outputs": [
    {
     "data": {
      "text/plain": "            OurRef Net Amount\n0  SF6043280121257      9,900\n2  SF6043280121196      7,100\n4  SF6043280121105     10,000\n6  SF6043280121239     11,000\n8  SF6043280039979     15,200",
      "text/html": "<div>\n<style scoped>\n    .dataframe tbody tr th:only-of-type {\n        vertical-align: middle;\n    }\n\n    .dataframe tbody tr th {\n        vertical-align: top;\n    }\n\n    .dataframe thead th {\n        text-align: right;\n    }\n</style>\n<table border=\"1\" class=\"dataframe\">\n  <thead>\n    <tr style=\"text-align: right;\">\n      <th></th>\n      <th>OurRef</th>\n      <th>Net Amount</th>\n    </tr>\n  </thead>\n  <tbody>\n    <tr>\n      <th>0</th>\n      <td>SF6043280121257</td>\n      <td>9,900</td>\n    </tr>\n    <tr>\n      <th>2</th>\n      <td>SF6043280121196</td>\n      <td>7,100</td>\n    </tr>\n    <tr>\n      <th>4</th>\n      <td>SF6043280121105</td>\n      <td>10,000</td>\n    </tr>\n    <tr>\n      <th>6</th>\n      <td>SF6043280121239</td>\n      <td>11,000</td>\n    </tr>\n    <tr>\n      <th>8</th>\n      <td>SF6043280039979</td>\n      <td>15,200</td>\n    </tr>\n  </tbody>\n</table>\n</div>"
     },
     "execution_count": 18,
     "metadata": {},
     "output_type": "execute_result"
    }
   ],
   "source": [
    "sf.head()"
   ],
   "metadata": {
    "collapsed": false,
    "pycharm": {
     "name": "#%%\n"
    }
   }
  },
  {
   "cell_type": "code",
   "execution_count": 19,
   "outputs": [
    {
     "data": {
      "text/plain": "            OurRef             Name\n0  SF6043280891147  #DBB100467563KR\n1  SF6043280891129  #DBB100467774KR\n2  SF6043280891110  #DBB100467821KR\n3  SF6043280891101  #DBB100467770KR\n4  SF6043280891086  #DBB100467648KR",
      "text/html": "<div>\n<style scoped>\n    .dataframe tbody tr th:only-of-type {\n        vertical-align: middle;\n    }\n\n    .dataframe tbody tr th {\n        vertical-align: top;\n    }\n\n    .dataframe thead th {\n        text-align: right;\n    }\n</style>\n<table border=\"1\" class=\"dataframe\">\n  <thead>\n    <tr style=\"text-align: right;\">\n      <th></th>\n      <th>OurRef</th>\n      <th>Name</th>\n    </tr>\n  </thead>\n  <tbody>\n    <tr>\n      <th>0</th>\n      <td>SF6043280891147</td>\n      <td>#DBB100467563KR</td>\n    </tr>\n    <tr>\n      <th>1</th>\n      <td>SF6043280891129</td>\n      <td>#DBB100467774KR</td>\n    </tr>\n    <tr>\n      <th>2</th>\n      <td>SF6043280891110</td>\n      <td>#DBB100467821KR</td>\n    </tr>\n    <tr>\n      <th>3</th>\n      <td>SF6043280891101</td>\n      <td>#DBB100467770KR</td>\n    </tr>\n    <tr>\n      <th>4</th>\n      <td>SF6043280891086</td>\n      <td>#DBB100467648KR</td>\n    </tr>\n  </tbody>\n</table>\n</div>"
     },
     "execution_count": 19,
     "metadata": {},
     "output_type": "execute_result"
    }
   ],
   "source": [
    "sf_sent.head()"
   ],
   "metadata": {
    "collapsed": false,
    "pycharm": {
     "name": "#%%\n"
    }
   }
  },
  {
   "cell_type": "code",
   "execution_count": 20,
   "outputs": [
    {
     "data": {
      "text/plain": "            OurRef Net Amount             Name\n0  SF6043280890821     15,200  #DBB100467765KR\n1  SF6043280890673     12,100  #DBB100467614KR\n2  SF6043280890812      8,600  #DBB100467720KR\n3  SF6043280891040      8,600  #DBB100467796KR\n4  SF6043280890955     13,100  #DBB100467560KR",
      "text/html": "<div>\n<style scoped>\n    .dataframe tbody tr th:only-of-type {\n        vertical-align: middle;\n    }\n\n    .dataframe tbody tr th {\n        vertical-align: top;\n    }\n\n    .dataframe thead th {\n        text-align: right;\n    }\n</style>\n<table border=\"1\" class=\"dataframe\">\n  <thead>\n    <tr style=\"text-align: right;\">\n      <th></th>\n      <th>OurRef</th>\n      <th>Net Amount</th>\n      <th>Name</th>\n    </tr>\n  </thead>\n  <tbody>\n    <tr>\n      <th>0</th>\n      <td>SF6043280890821</td>\n      <td>15,200</td>\n      <td>#DBB100467765KR</td>\n    </tr>\n    <tr>\n      <th>1</th>\n      <td>SF6043280890673</td>\n      <td>12,100</td>\n      <td>#DBB100467614KR</td>\n    </tr>\n    <tr>\n      <th>2</th>\n      <td>SF6043280890812</td>\n      <td>8,600</td>\n      <td>#DBB100467720KR</td>\n    </tr>\n    <tr>\n      <th>3</th>\n      <td>SF6043280891040</td>\n      <td>8,600</td>\n      <td>#DBB100467796KR</td>\n    </tr>\n    <tr>\n      <th>4</th>\n      <td>SF6043280890955</td>\n      <td>13,100</td>\n      <td>#DBB100467560KR</td>\n    </tr>\n  </tbody>\n</table>\n</div>"
     },
     "execution_count": 20,
     "metadata": {},
     "output_type": "execute_result"
    }
   ],
   "source": [
    "sf_merged = sf.merge(sf_sent, on=['OurRef'], how='inner')\n",
    "sf_merged.head()"
   ],
   "metadata": {
    "collapsed": false,
    "pycharm": {
     "name": "#%%\n"
    }
   }
  },
  {
   "cell_type": "code",
   "execution_count": 21,
   "outputs": [
    {
     "data": {
      "text/plain": "OurRef        709\nNet Amount    709\nName          709\ndtype: int64"
     },
     "execution_count": 21,
     "metadata": {},
     "output_type": "execute_result"
    }
   ],
   "source": [
    "sf_merged.count()"
   ],
   "metadata": {
    "collapsed": false,
    "pycharm": {
     "name": "#%%\n"
    }
   }
  },
  {
   "cell_type": "code",
   "execution_count": 22,
   "outputs": [],
   "source": [
    "sf_merged.to_csv('sf_12_merged.csv')"
   ],
   "metadata": {
    "collapsed": false,
    "pycharm": {
     "name": "#%%\n"
    }
   }
  },
  {
   "cell_type": "code",
   "execution_count": 11,
   "outputs": [],
   "source": [],
   "metadata": {
    "collapsed": false,
    "pycharm": {
     "name": "#%%\n"
    }
   }
  }
 ],
 "metadata": {
  "kernelspec": {
   "display_name": "Python 3",
   "language": "python",
   "name": "python3"
  },
  "language_info": {
   "codemirror_mode": {
    "name": "ipython",
    "version": 2
   },
   "file_extension": ".py",
   "mimetype": "text/x-python",
   "name": "python",
   "nbconvert_exporter": "python",
   "pygments_lexer": "ipython2",
   "version": "2.7.6"
  }
 },
 "nbformat": 4,
 "nbformat_minor": 0
}